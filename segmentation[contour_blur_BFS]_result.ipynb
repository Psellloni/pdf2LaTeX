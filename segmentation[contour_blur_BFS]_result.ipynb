{
 "cells": [
  {
   "cell_type": "code",
   "execution_count": 1,
   "id": "4c45709b",
   "metadata": {},
   "outputs": [],
   "source": [
    "from PIL import Image\n",
    "from pix2tex.cli import LatexOCR\n",
    "import pytesseract\n",
    "import easyocr\n",
    "import numpy as np\n",
    "import os\n",
    "import matplotlib.pyplot as plt\n",
    "import cv2\n",
    "from collections import deque"
   ]
  },
  {
   "cell_type": "code",
   "execution_count": 2,
   "id": "abab4c31",
   "metadata": {},
   "outputs": [],
   "source": [
    "def contour(image_path, tres=(235, 300), show=False):\n",
    "    img = cv2.imread(image_path,  cv2.IMREAD_GRAYSCALE)\n",
    "    img = cv2.Canny(img, threshold1=tres[0], threshold2=tres[1])\n",
    "    \n",
    "    if show is True:\n",
    "        plt.imshow(img, cmap='gray')\n",
    "    \n",
    "    return img"
   ]
  },
  {
   "cell_type": "code",
   "execution_count": 3,
   "id": "0c2dfdb7",
   "metadata": {},
   "outputs": [],
   "source": [
    "def add_precision(vector, precision=1):\n",
    "    if (precision == 0):\n",
    "        return vector\n",
    "    \n",
    "    i = 0\n",
    "    fin = len(vector)\n",
    "    \n",
    "    while True:\n",
    "        if (vector[i] != 0):\n",
    "            if ((i != 0) and (vector[i - 1] == 0)):\n",
    "                for j in range(max(0, i - precision), i):\n",
    "                    vector[j] = vector[i]\n",
    "            if ((i != len(vector) - 1) and (vector[i + 1] == 0)):\n",
    "                for j in range(i, min(len(vector), i + precision + 1)):\n",
    "                    vector[j] = vector[i]\n",
    "                i = min(len(vector), i + precision + 1) - 1\n",
    "                \n",
    "                \n",
    "        i += 1\n",
    "        if i >= len(vector) - 1:\n",
    "            break\n",
    "\n",
    "    return vector"
   ]
  },
  {
   "cell_type": "code",
   "execution_count": 4,
   "id": "cfd8c9f4",
   "metadata": {},
   "outputs": [],
   "source": [
    "def blur(img, precision=1, axis='x', show=False):\n",
    "    \n",
    "    t_img = img.copy()\n",
    "    \n",
    "    if axis != 'x':\n",
    "        t_img = t_img.T\n",
    "        \n",
    "    for row in t_img:\n",
    "        add_precision(row, precision)\n",
    "    \n",
    "    if axis != 'x':\n",
    "        t_img = t_img.T\n",
    "    \n",
    "    if show is True:\n",
    "        plt.imshow(t_img, cmap='gray')\n",
    "\n",
    "    return t_img"
   ]
  },
  {
   "cell_type": "code",
   "execution_count": 10,
   "id": "b10de7eb",
   "metadata": {},
   "outputs": [],
   "source": [
    "def BFS_segment(blurred, been, coords, show=False):\n",
    "    \n",
    "    segment = np.zeros_like(blurred)\n",
    "    segment[coords[0]][coords[1]] = 1\n",
    "    \n",
    "    q_x = deque()\n",
    "    q_x.append(coords[1])\n",
    "    \n",
    "    q_y = deque()\n",
    "    q_y.append(coords[0])\n",
    "    \n",
    "    while q_x:\n",
    "        i = q_y.popleft()\n",
    "        j = q_x.popleft()\n",
    "        \n",
    "        if (j - 1 >= 0) and (been[i][j - 1] == 0) and (blurred[i][j - 1] == 1):\n",
    "            q_x.append(j - 1)\n",
    "            q_y.append(i)\n",
    "\n",
    "            been[i][j - 1] = 1\n",
    "            segment[i][j - 1] = 1\n",
    "        \n",
    "        if (i - 1 >= 0) and (been[i - 1][j] == 0) and (blurred[i - 1][j] == 1):\n",
    "            q_x.append(j)\n",
    "            q_y.append(i - 1)\n",
    "\n",
    "            been[i - 1][j] = 1\n",
    "            segment[i - 1][j] = 1\n",
    "        \n",
    "        if (j + 1 < len(blurred[0])) and (been[i][j + 1] == 0) and (blurred[i][j + 1] == 1):\n",
    "            q_x.append(j + 1)\n",
    "            q_y.append(i)\n",
    "\n",
    "            been[i][j + 1] = 1\n",
    "            segment[i][j + 1] = 1\n",
    "        \n",
    "        if (i + 1 < len(blurred)) and (been[i + 1][j] == 0) and (blurred[i + 1][j] == 1):\n",
    "            q_x.append(j)\n",
    "            q_y.append(i + 1)\n",
    "\n",
    "            been[i + 1][j] = 1\n",
    "            segment[i + 1][j] = 1\n",
    "        \n",
    "    if show is True:\n",
    "        plt.imshow(segment, cmap='gray')\n",
    "        \n",
    "    return segment"
   ]
  },
  {
   "cell_type": "code",
   "execution_count": 11,
   "id": "f8617b28",
   "metadata": {},
   "outputs": [],
   "source": [
    "def segmentation_BFS(blurred):\n",
    "    been = np.zeros_like(blurred)\n",
    "    blurred[blurred != 0] = 1\n",
    "    segments = []\n",
    "    while not np.array_equal(been, blurred):\n",
    "        for i in range(len(blurred)):\n",
    "            for j in range(len(blurred[i])):\n",
    "                if (blurred[i][j] != 0) and (been[i][j] == 0):\n",
    "                    been[i][j] = 1\n",
    "                    segment = BFS_segment(blurred, been, coords=(i, j), show=False)\n",
    "                    segments.append(segment)\n",
    "    return segments"
   ]
  },
  {
   "cell_type": "code",
   "execution_count": 24,
   "id": "f1547bd1",
   "metadata": {},
   "outputs": [],
   "source": [
    "def show_part_of_image(segment, image):\n",
    "    mask = segment.copy()\n",
    "    mask[mask != 0] = 1\n",
    "    mask = mask.astype(bool)\n",
    "    \n",
    "    iz = np.where(mask.astype(bool), image, 0)\n",
    "    \n",
    "    plt.imshow(iz, cmap='gray')\n",
    "    \n",
    "    return None"
   ]
  },
  {
   "cell_type": "code",
   "execution_count": 30,
   "id": "806d00d9",
   "metadata": {},
   "outputs": [],
   "source": [
    "def put_projection_borders(segment, show=False):\n",
    "    \n",
    "    t_segment = segment.copy()\n",
    "    \n",
    "    x_proj = segment.any(axis=0)\n",
    "    y_proj = segment.any(axis=1)\n",
    "    \n",
    "    \n",
    "    def find_first(proj):\n",
    "        for i in range(len(proj)):\n",
    "            if proj[i]!=0:\n",
    "                return i\n",
    "    \n",
    "    def find_last(proj):\n",
    "        for i in range(len(proj) - 1, 0, -1):\n",
    "            if proj[i]!=0:\n",
    "                return i\n",
    "    \n",
    "    y_first = find_first(y_proj)\n",
    "    y_last = find_last(y_proj)\n",
    "    x_first = find_first(x_proj)\n",
    "    x_last = find_last(x_proj) \n",
    "    \n",
    "    t_segment[y_first:y_first+1, x_first:x_last] = 255\n",
    "    t_segment[y_last-1:y_last, x_first:x_last] = 255\n",
    "    t_segment[y_first:y_last, x_first+1] = 255\n",
    "    t_segment[y_first:y_last, x_last-1:x_last] = 255\n",
    "    \n",
    "    t_segment[t_segment!=0] = 255\n",
    "    \n",
    "    if show is True:\n",
    "        plt.imshow(t_segment, cmap='gray')\n",
    "        \n",
    "    return t_segment"
   ]
  },
  {
   "cell_type": "code",
   "execution_count": 35,
   "id": "67b68942",
   "metadata": {},
   "outputs": [],
   "source": [
    "def cut_projection(segment, show=False):\n",
    "    x_proj = segment.any(axis=0)\n",
    "    y_proj = segment.any(axis=1)\n",
    "    \n",
    "    \n",
    "    def find_first(proj):\n",
    "        for i in range(len(proj)):\n",
    "            if proj[i]!=0:\n",
    "                return i\n",
    "    \n",
    "    def find_last(proj):\n",
    "        for i in range(len(proj) - 1, 0, -1):\n",
    "            if proj[i]!=0:\n",
    "                return i\n",
    "    \n",
    "    y_first = find_first(y_proj)\n",
    "    y_last = find_last(y_proj)\n",
    "    x_first = find_first(x_proj)\n",
    "    x_last = find_last(x_proj) \n",
    "    \n",
    "    cut_segment = segment.copy()[y_first:y_last, x_first:x_last]\n",
    "    \n",
    "    cut_segment[cut_segment!=0] = 255\n",
    "    \n",
    "    if show is True:\n",
    "        plt.imshow(cut_segment, cmap='gray')\n",
    "        \n",
    "    return cut_segment"
   ]
  },
  {
   "cell_type": "code",
   "execution_count": 39,
   "id": "82b5a30d",
   "metadata": {},
   "outputs": [],
   "source": [
    "def cut_picture(segment, image, show=False):\n",
    "    x_proj = segment.any(axis=0)\n",
    "    y_proj = segment.any(axis=1)\n",
    "    \n",
    "    \n",
    "    def find_first(proj):\n",
    "        for i in range(len(proj)):\n",
    "            if proj[i]!=0:\n",
    "                return i\n",
    "    \n",
    "    def find_last(proj):\n",
    "        for i in range(len(proj) - 1, 0, -1):\n",
    "            if proj[i]!=0:\n",
    "                return i\n",
    "    \n",
    "    y_first = find_first(y_proj)\n",
    "    y_last = find_last(y_proj)\n",
    "    x_first = find_first(x_proj)\n",
    "    x_last = find_last(x_proj) \n",
    "    \n",
    "    cut_image = image.copy()[y_first:y_last, x_first:x_last]\n",
    "\n",
    "    \n",
    "    if show is True:\n",
    "        plt.imshow(cut_image, cmap='gray')\n",
    "        \n",
    "    return cut_image"
   ]
  },
  {
   "cell_type": "markdown",
   "id": "8d056a31",
   "metadata": {},
   "source": [
    "Теперь общий алгоритм"
   ]
  },
  {
   "cell_type": "code",
   "execution_count": 129,
   "id": "5ffcc57d",
   "metadata": {},
   "outputs": [],
   "source": [
    "def get_segments(image_path, cont_tres=(500, 600), precision=(6, 4)):\n",
    "    image = cv2.imread(image_path,  cv2.IMREAD_GRAYSCALE)\n",
    "    cont_img = contour(image_path, tres=cont_tres)\n",
    "    blurred = blur(cont_img, precision=precision[0], axis='x')\n",
    "    blurred = blur(blurred, precision=precision[1], axis='y')\n",
    "    segments = segmentation_BFS(blurred)\n",
    "    return segments"
   ]
  },
  {
   "cell_type": "code",
   "execution_count": 130,
   "id": "5a246f87",
   "metadata": {},
   "outputs": [],
   "source": [
    "segments = get_segments('testovoye.png')"
   ]
  },
  {
   "cell_type": "code",
   "execution_count": 132,
   "id": "11fc36b5",
   "metadata": {},
   "outputs": [
    {
     "data": {
      "text/plain": [
       "array([[255, 255, 255, ..., 255, 255, 255],\n",
       "       [255, 255, 255, ..., 255, 255, 255],\n",
       "       [255, 255, 255, ..., 255, 255, 255],\n",
       "       ...,\n",
       "       [255, 255, 255, ..., 255, 255, 255],\n",
       "       [255, 255, 255, ..., 255, 255, 255],\n",
       "       [255, 255, 255, ..., 255, 255, 255]], dtype=uint8)"
      ]
     },
     "execution_count": 132,
     "metadata": {},
     "output_type": "execute_result"
    },
    {
     "data": {
      "image/png": "[encoded data removed]",
      "text/plain": [
       "<Figure size 640x480 with 1 Axes>"
      ]
     },
     "metadata": {},
     "output_type": "display_data"
    }
   ],
   "source": [
    "cut_picture(segments[2], cv2.imread('testovoye.png',  cv2.IMREAD_GRAYSCALE), show=True)"
   ]
  }
 ],
 "metadata": {
  "kernelspec": {
   "display_name": "Python 3 (ipykernel)",
   "language": "python",
   "name": "python3"
  },
  "language_info": {
   "codemirror_mode": {
    "name": "ipython",
    "version": 3
   },
   "file_extension": ".py",
   "mimetype": "text/x-python",
   "name": "python",
   "nbconvert_exporter": "python",
   "pygments_lexer": "ipython3",
   "version": "3.9.13"
  }
 },
 "nbformat": 4,
 "nbformat_minor": 5
}
